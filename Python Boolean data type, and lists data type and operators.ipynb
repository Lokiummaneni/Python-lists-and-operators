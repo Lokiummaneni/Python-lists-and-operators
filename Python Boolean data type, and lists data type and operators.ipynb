{
 "cells": [
  {
   "cell_type": "markdown",
   "id": "2958e2e5",
   "metadata": {},
   "source": [
    "#### Boolean"
   ]
  },
  {
   "cell_type": "code",
   "execution_count": 1,
   "id": "cf517aec",
   "metadata": {},
   "outputs": [
    {
     "name": "stdout",
     "output_type": "stream",
     "text": [
      "True\n"
     ]
    }
   ],
   "source": [
    "print(10>9)"
   ]
  },
  {
   "cell_type": "code",
   "execution_count": 2,
   "id": "2547267b",
   "metadata": {},
   "outputs": [
    {
     "name": "stdout",
     "output_type": "stream",
     "text": [
      "False\n"
     ]
    }
   ],
   "source": [
    "print(9==4)"
   ]
  },
  {
   "cell_type": "code",
   "execution_count": 3,
   "id": "e8641232",
   "metadata": {},
   "outputs": [
    {
     "name": "stdout",
     "output_type": "stream",
     "text": [
      "True\n"
     ]
    }
   ],
   "source": [
    "print(4<8)"
   ]
  },
  {
   "cell_type": "raw",
   "id": "8bc9b8bb",
   "metadata": {},
   "source": [
    "Note: 1.Any string is True, except empty strings.\n",
    "\n",
    "      2.Any number is True, except 0.\n",
    "\n",
    "      3.Any list, tuple, set, and dictionary are True, except empty ones."
   ]
  },
  {
   "cell_type": "code",
   "execution_count": 9,
   "id": "9ce4af61",
   "metadata": {},
   "outputs": [
    {
     "name": "stdout",
     "output_type": "stream",
     "text": [
      "False\n"
     ]
    }
   ],
   "source": [
    "print(bool())"
   ]
  },
  {
   "cell_type": "code",
   "execution_count": 10,
   "id": "6ecb5969",
   "metadata": {},
   "outputs": [
    {
     "data": {
      "text/plain": [
       "False"
      ]
     },
     "execution_count": 10,
     "metadata": {},
     "output_type": "execute_result"
    }
   ],
   "source": [
    "bool(0)"
   ]
  },
  {
   "cell_type": "code",
   "execution_count": 11,
   "id": "33bb6a09",
   "metadata": {},
   "outputs": [
    {
     "data": {
      "text/plain": [
       "False"
      ]
     },
     "execution_count": 11,
     "metadata": {},
     "output_type": "execute_result"
    }
   ],
   "source": [
    "bool('')"
   ]
  },
  {
   "cell_type": "code",
   "execution_count": 12,
   "id": "a59782fe",
   "metadata": {},
   "outputs": [
    {
     "data": {
      "text/plain": [
       "False"
      ]
     },
     "execution_count": 12,
     "metadata": {},
     "output_type": "execute_result"
    }
   ],
   "source": [
    "bool([])"
   ]
  },
  {
   "cell_type": "code",
   "execution_count": 13,
   "id": "95d64336",
   "metadata": {},
   "outputs": [
    {
     "data": {
      "text/plain": [
       "False"
      ]
     },
     "execution_count": 13,
     "metadata": {},
     "output_type": "execute_result"
    }
   ],
   "source": [
    "bool(())"
   ]
  },
  {
   "cell_type": "code",
   "execution_count": 15,
   "id": "bef9c902",
   "metadata": {},
   "outputs": [
    {
     "data": {
      "text/plain": [
       "False"
      ]
     },
     "execution_count": 15,
     "metadata": {},
     "output_type": "execute_result"
    }
   ],
   "source": [
    "bool({})"
   ]
  },
  {
   "cell_type": "markdown",
   "id": "e5435553",
   "metadata": {},
   "source": [
    "#### isinstance\n",
    "The isinstance() function returns True if the specified object is of the specified type, otherwise False . If the type parameter is a tuple, this function will return True if the object is one of the types in the tuple"
   ]
  },
  {
   "cell_type": "code",
   "execution_count": 17,
   "id": "b5451263",
   "metadata": {},
   "outputs": [
    {
     "name": "stdout",
     "output_type": "stream",
     "text": [
      "True\n"
     ]
    }
   ],
   "source": [
    "x=40\n",
    "print(isinstance(x,int))"
   ]
  },
  {
   "cell_type": "code",
   "execution_count": 18,
   "id": "7721f022",
   "metadata": {},
   "outputs": [
    {
     "name": "stdout",
     "output_type": "stream",
     "text": [
      "False\n"
     ]
    }
   ],
   "source": [
    "print(isinstance(x,str))"
   ]
  },
  {
   "cell_type": "markdown",
   "id": "a1f4f5ed",
   "metadata": {},
   "source": [
    "### Lists\n",
    "Lists are used to stores multiple items in a single variable\n",
    "List items are ordered, changeable, and allow duplicate values."
   ]
  },
  {
   "cell_type": "code",
   "execution_count": 142,
   "id": "f5cd09e8",
   "metadata": {},
   "outputs": [
    {
     "name": "stdout",
     "output_type": "stream",
     "text": [
      "['Suresh', 'Sai', 'Paremesh', 'Chaitanya', 'Purna', 'Reddy']\n"
     ]
    }
   ],
   "source": [
    "myfriends=['Suresh','Sai','Paremesh','Chaitanya','Purna','Reddy']\n",
    "print(myfriends)"
   ]
  },
  {
   "cell_type": "code",
   "execution_count": 58,
   "id": "128cf136",
   "metadata": {},
   "outputs": [
    {
     "data": {
      "text/plain": [
       "6"
      ]
     },
     "execution_count": 58,
     "metadata": {},
     "output_type": "execute_result"
    }
   ],
   "source": [
    "len(myfriends)"
   ]
  },
  {
   "cell_type": "code",
   "execution_count": 59,
   "id": "bdf266d6",
   "metadata": {},
   "outputs": [
    {
     "data": {
      "text/plain": [
       "list"
      ]
     },
     "execution_count": 59,
     "metadata": {},
     "output_type": "execute_result"
    }
   ],
   "source": [
    "type(myfriends)"
   ]
  },
  {
   "cell_type": "code",
   "execution_count": 60,
   "id": "bd18322c",
   "metadata": {},
   "outputs": [],
   "source": [
    "rollnum=list((590,566,551,513,558,528))"
   ]
  },
  {
   "cell_type": "code",
   "execution_count": 61,
   "id": "a2703e05",
   "metadata": {},
   "outputs": [
    {
     "name": "stdout",
     "output_type": "stream",
     "text": [
      "[590, 566, 551, 513, 558, 528]\n"
     ]
    }
   ],
   "source": [
    "print(rollnum)"
   ]
  },
  {
   "cell_type": "code",
   "execution_count": 62,
   "id": "643389f2",
   "metadata": {},
   "outputs": [
    {
     "data": {
      "text/plain": [
       "list"
      ]
     },
     "execution_count": 62,
     "metadata": {},
     "output_type": "execute_result"
    }
   ],
   "source": [
    "type(rollnum)"
   ]
  },
  {
   "cell_type": "code",
   "execution_count": 71,
   "id": "c79a2ac8",
   "metadata": {},
   "outputs": [
    {
     "name": "stdout",
     "output_type": "stream",
     "text": [
      "566\n",
      "590\n",
      "528\n",
      "[566, 551, 513, 558, 528]\n",
      "[590, 566]\n",
      "[566, 551]\n",
      "[590, 566, 551, 513, 558]\n"
     ]
    }
   ],
   "source": [
    "print(rollnum[1])\n",
    "print(rollnum[0])\n",
    "print(rollnum[-1])\n",
    "print(rollnum[1:])\n",
    "print(rollnum[:2])\n",
    "print(rollnum[1:3])\n",
    "print(rollnum[:-1])"
   ]
  },
  {
   "cell_type": "code",
   "execution_count": 73,
   "id": "bd0ecd05",
   "metadata": {},
   "outputs": [
    {
     "name": "stdout",
     "output_type": "stream",
     "text": [
      "Suresh\n",
      "Sai\n",
      "Paremesh\n",
      "chaitanya\n",
      "Purna\n",
      "Reddy\n"
     ]
    }
   ],
   "source": [
    "for friends in myfriends:\n",
    "    print(friends)"
   ]
  },
  {
   "cell_type": "code",
   "execution_count": 75,
   "id": "24c192e7",
   "metadata": {},
   "outputs": [
    {
     "name": "stdout",
     "output_type": "stream",
     "text": [
      "Sai is my friend\n"
     ]
    }
   ],
   "source": [
    "if 'Sai' in myfriends:\n",
    "    print('Sai is my friend')"
   ]
  },
  {
   "cell_type": "code",
   "execution_count": 76,
   "id": "e10eae6d",
   "metadata": {},
   "outputs": [
    {
     "data": {
      "text/plain": [
       "['Suresh', 'Sai', 'Paremesh', 'chaitanya', 'Purna', 'Reddy']"
      ]
     },
     "execution_count": 76,
     "metadata": {},
     "output_type": "execute_result"
    }
   ],
   "source": [
    "myfriends"
   ]
  },
  {
   "cell_type": "code",
   "execution_count": 78,
   "id": "222cba55",
   "metadata": {},
   "outputs": [
    {
     "data": {
      "text/plain": [
       "['suresh', 'Sai', 'Paremesh', 'chaitanya', 'Purna', 'Reddy']"
      ]
     },
     "execution_count": 78,
     "metadata": {},
     "output_type": "execute_result"
    }
   ],
   "source": [
    "myfriends[0]='suresh'\n",
    "myfriends"
   ]
  },
  {
   "cell_type": "code",
   "execution_count": 79,
   "id": "cd888ab6",
   "metadata": {},
   "outputs": [],
   "source": [
    "myfriends[:3]='loki'"
   ]
  },
  {
   "cell_type": "code",
   "execution_count": 85,
   "id": "54ac2ccf",
   "metadata": {},
   "outputs": [
    {
     "data": {
      "text/plain": [
       "['Suresh', 'Sai', 'Paremesh', 'chaitanya', 'Purna', 'Reddy']"
      ]
     },
     "execution_count": 85,
     "metadata": {},
     "output_type": "execute_result"
    }
   ],
   "source": [
    "myfriends"
   ]
  },
  {
   "cell_type": "code",
   "execution_count": 86,
   "id": "fb3cc978",
   "metadata": {},
   "outputs": [
    {
     "name": "stdout",
     "output_type": "stream",
     "text": [
      "['Suresh', 'lokesh', 'Paremesh', 'chaitanya', 'Purna', 'Reddy']\n"
     ]
    }
   ],
   "source": [
    "myfriends[1:2]=['lokesh']\n",
    "print(myfriends)"
   ]
  },
  {
   "cell_type": "code",
   "execution_count": 100,
   "id": "3b94b431",
   "metadata": {},
   "outputs": [
    {
     "name": "stdout",
     "output_type": "stream",
     "text": [
      "['Suresh', 'Sai', 'chaitanya', 'Purna']\n"
     ]
    }
   ],
   "source": [
    "myfriends[1]='Sai'\n",
    "print(myfriends)"
   ]
  },
  {
   "cell_type": "code",
   "execution_count": 102,
   "id": "d12bde49",
   "metadata": {},
   "outputs": [
    {
     "name": "stdout",
     "output_type": "stream",
     "text": [
      "['Suresh', 'Sai', 'Paramesh', 'Purna']\n"
     ]
    }
   ],
   "source": [
    "myfriends[2]='Paramesh'\n",
    "print(myfriends)"
   ]
  },
  {
   "cell_type": "code",
   "execution_count": 105,
   "id": "01744800",
   "metadata": {},
   "outputs": [],
   "source": [
    "myfriends.insert(3,'Chaitanya')\n",
    "myfriends.insert(-1,'Reddy')"
   ]
  },
  {
   "cell_type": "code",
   "execution_count": 106,
   "id": "37e9b0ef",
   "metadata": {},
   "outputs": [
    {
     "data": {
      "text/plain": [
       "['Suresh', 'Sai', 'Paramesh', 'Chaitanya', 'Reddy', 'Purna']"
      ]
     },
     "execution_count": 106,
     "metadata": {},
     "output_type": "execute_result"
    }
   ],
   "source": [
    "myfriends"
   ]
  },
  {
   "cell_type": "code",
   "execution_count": 107,
   "id": "d7afaa7c",
   "metadata": {},
   "outputs": [
    {
     "name": "stdout",
     "output_type": "stream",
     "text": [
      "['Suresh', 'Sai', 'Paramesh', 'Chaitanya', 'Reddy', 'Purna', 'Lokesh']\n"
     ]
    }
   ],
   "source": [
    "myfriends.append('Lokesh')\n",
    "print(myfriends)"
   ]
  },
  {
   "cell_type": "code",
   "execution_count": 108,
   "id": "4e332cad",
   "metadata": {},
   "outputs": [
    {
     "name": "stdout",
     "output_type": "stream",
     "text": [
      "['Suresh', 'Sai', 'Paramesh', 'Chaitanya', 'Reddy', 'Purna', 'Lokesh', 590, 566, 551, 513, 558, 528]\n"
     ]
    }
   ],
   "source": [
    "total=myfriends\n",
    "total.extend(rollnum)\n",
    "print(total)"
   ]
  },
  {
   "cell_type": "code",
   "execution_count": 111,
   "id": "b17e52c8",
   "metadata": {},
   "outputs": [
    {
     "name": "stdout",
     "output_type": "stream",
     "text": [
      "['Suresh', 'Sai', 'Paramesh', 'Chaitanya', 'Reddy', 'Purna', 'Lokesh', 566, 551, 513, 558, 528]\n"
     ]
    }
   ],
   "source": [
    "total.remove(590)\n",
    "print(total)"
   ]
  },
  {
   "cell_type": "code",
   "execution_count": 112,
   "id": "d55f3171",
   "metadata": {},
   "outputs": [
    {
     "name": "stdout",
     "output_type": "stream",
     "text": [
      "['Suresh', 'Sai', 'Paramesh', 'Chaitanya', 'Reddy', 'Purna', 'Lokesh', 566, 551, 513, 558]\n"
     ]
    }
   ],
   "source": [
    "total.pop()\n",
    "print(total)"
   ]
  },
  {
   "cell_type": "code",
   "execution_count": 113,
   "id": "fedc4c70",
   "metadata": {},
   "outputs": [
    {
     "name": "stdout",
     "output_type": "stream",
     "text": [
      "['Suresh', 'Sai', 'Paramesh', 'Chaitanya', 'Reddy', 'Purna', 'Lokesh', 566, 551, 513]\n"
     ]
    }
   ],
   "source": [
    "del total[-1]\n",
    "print(total)"
   ]
  },
  {
   "cell_type": "code",
   "execution_count": 114,
   "id": "ada9ba60",
   "metadata": {},
   "outputs": [],
   "source": [
    "total.clear()"
   ]
  },
  {
   "cell_type": "code",
   "execution_count": 115,
   "id": "6297950b",
   "metadata": {},
   "outputs": [
    {
     "name": "stdout",
     "output_type": "stream",
     "text": [
      "[]\n"
     ]
    }
   ],
   "source": [
    "print(total)"
   ]
  },
  {
   "cell_type": "code",
   "execution_count": 116,
   "id": "56e1d18b",
   "metadata": {},
   "outputs": [],
   "source": [
    "del total"
   ]
  },
  {
   "cell_type": "code",
   "execution_count": 117,
   "id": "4d095e61",
   "metadata": {},
   "outputs": [
    {
     "ename": "NameError",
     "evalue": "name 'total' is not defined",
     "output_type": "error",
     "traceback": [
      "\u001b[1;31m---------------------------------------------------------------------------\u001b[0m",
      "\u001b[1;31mNameError\u001b[0m                                 Traceback (most recent call last)",
      "Input \u001b[1;32mIn [117]\u001b[0m, in \u001b[0;36m<cell line: 1>\u001b[1;34m()\u001b[0m\n\u001b[1;32m----> 1\u001b[0m \u001b[38;5;28mprint\u001b[39m(\u001b[43mtotal\u001b[49m)\n",
      "\u001b[1;31mNameError\u001b[0m: name 'total' is not defined"
     ]
    }
   ],
   "source": [
    "print(total)"
   ]
  },
  {
   "cell_type": "code",
   "execution_count": 118,
   "id": "5130a16d",
   "metadata": {},
   "outputs": [
    {
     "name": "stdout",
     "output_type": "stream",
     "text": [
      "590\n",
      "566\n",
      "551\n",
      "513\n",
      "558\n",
      "528\n"
     ]
    }
   ],
   "source": [
    "for x in rollnum:\n",
    "    print(x)"
   ]
  },
  {
   "cell_type": "code",
   "execution_count": 119,
   "id": "b909c228",
   "metadata": {},
   "outputs": [
    {
     "name": "stdout",
     "output_type": "stream",
     "text": [
      "590\n",
      "566\n",
      "551\n",
      "513\n",
      "558\n",
      "528\n"
     ]
    }
   ],
   "source": [
    "for x in range(len(rollnum)):\n",
    "    print(rollnum[x])"
   ]
  },
  {
   "cell_type": "code",
   "execution_count": 120,
   "id": "fb7edc5f",
   "metadata": {},
   "outputs": [
    {
     "name": "stdout",
     "output_type": "stream",
     "text": [
      "590\n",
      "566\n",
      "551\n",
      "513\n",
      "558\n",
      "528\n"
     ]
    }
   ],
   "source": [
    "i=0\n",
    "while i<len(rollnum):\n",
    "    print(rollnum[i])\n",
    "    i=i+1"
   ]
  },
  {
   "cell_type": "markdown",
   "id": "b7770ce4",
   "metadata": {},
   "source": [
    "#### List Comprehension\n",
    "List comprehension offers a shorter syntax when you want to create a new list based on the values of an existing list.          \n",
    "syntax:  newlist = [expression for item in iterable if condition == True]\n"
   ]
  },
  {
   "cell_type": "code",
   "execution_count": 122,
   "id": "97763b69",
   "metadata": {},
   "outputs": [
    {
     "name": "stdout",
     "output_type": "stream",
     "text": [
      "[590, 566, 551, 513, 558, 528]\n"
     ]
    }
   ],
   "source": [
    "total=[]#Creating new list base on existing list\n",
    "for i in rollnum:\n",
    "    total.append(i)\n",
    "print(total)"
   ]
  },
  {
   "cell_type": "code",
   "execution_count": 123,
   "id": "14138624",
   "metadata": {},
   "outputs": [],
   "source": [
    "del total"
   ]
  },
  {
   "cell_type": "code",
   "execution_count": 125,
   "id": "a7437e26",
   "metadata": {},
   "outputs": [
    {
     "name": "stdout",
     "output_type": "stream",
     "text": [
      "[590, 566, 551, 513, 558, 528]\n"
     ]
    }
   ],
   "source": [
    "total=[x for x in rollnum]#$Creatin new list using list comprehension\n",
    "print(total)"
   ]
  },
  {
   "cell_type": "code",
   "execution_count": 127,
   "id": "b7fcd6b4",
   "metadata": {},
   "outputs": [
    {
     "name": "stdout",
     "output_type": "stream",
     "text": [
      "[551, 513, 558, 528]\n"
     ]
    }
   ],
   "source": [
    "num=[x for x in rollnum if x < 560]\n",
    "print(num)"
   ]
  },
  {
   "cell_type": "code",
   "execution_count": 131,
   "id": "436c29ee",
   "metadata": {},
   "outputs": [
    {
     "name": "stdout",
     "output_type": "stream",
     "text": [
      "[0, 1, 2, 3, 4, 5, 6, 7, 8, 9, 10, 11, 12, 13, 14, 15, 16, 17, 18, 19]\n"
     ]
    }
   ],
   "source": [
    "n=[x for x in range(20)]\n",
    "print(n)"
   ]
  },
  {
   "cell_type": "code",
   "execution_count": 130,
   "id": "a9de84cb",
   "metadata": {},
   "outputs": [
    {
     "name": "stdout",
     "output_type": "stream",
     "text": [
      "[0, 3, 6, 9, 12, 15, 18]\n"
     ]
    }
   ],
   "source": [
    "numbers=[x for x in range(0,20,3)]\n",
    "print(numbers)"
   ]
  },
  {
   "cell_type": "code",
   "execution_count": 137,
   "id": "dd2ff810",
   "metadata": {},
   "outputs": [
    {
     "name": "stdout",
     "output_type": "stream",
     "text": [
      "['SURESH', 'SAI', 'PAREMESH', 'CHAITANYA', 'PURNA', 'REDDY']\n"
     ]
    }
   ],
   "source": [
    "friends=[x.upper() for x in myfriends]\n",
    "print(friends)"
   ]
  },
  {
   "cell_type": "code",
   "execution_count": 138,
   "id": "2b0ddbeb",
   "metadata": {},
   "outputs": [
    {
     "data": {
      "text/plain": [
       "['SURESH', 'SAI', 'PAREMESH', 'CHAITANYA', 'PURNA', 'REDDY']"
      ]
     },
     "execution_count": 138,
     "metadata": {},
     "output_type": "execute_result"
    }
   ],
   "source": [
    "friends"
   ]
  },
  {
   "cell_type": "code",
   "execution_count": 139,
   "id": "1c2d5560",
   "metadata": {},
   "outputs": [
    {
     "data": {
      "text/plain": [
       "['Loki', 'Loki', 'Loki', 'Loki', 'Loki', 'Loki']"
      ]
     },
     "execution_count": 139,
     "metadata": {},
     "output_type": "execute_result"
    }
   ],
   "source": [
    "friends=['Loki' for x in friends]\n",
    "friends"
   ]
  },
  {
   "cell_type": "code",
   "execution_count": 143,
   "id": "74fdd21c",
   "metadata": {},
   "outputs": [
    {
     "name": "stdout",
     "output_type": "stream",
     "text": [
      "['Chaitanya', 'Paremesh', 'Purna', 'Reddy', 'Sai', 'Suresh']\n"
     ]
    }
   ],
   "source": [
    "myfriends.sort()\n",
    "print(myfriends)"
   ]
  },
  {
   "cell_type": "code",
   "execution_count": 145,
   "id": "7fc78318",
   "metadata": {},
   "outputs": [
    {
     "name": "stdout",
     "output_type": "stream",
     "text": [
      "['Suresh', 'Sai', 'Reddy', 'Purna', 'Paremesh', 'Chaitanya']\n"
     ]
    }
   ],
   "source": [
    "myfriends.sort(reverse=True)\n",
    "print(myfriends)"
   ]
  },
  {
   "cell_type": "code",
   "execution_count": 146,
   "id": "96489ca6",
   "metadata": {},
   "outputs": [
    {
     "name": "stdout",
     "output_type": "stream",
     "text": [
      "[513, 528, 551, 558, 566, 590]\n"
     ]
    }
   ],
   "source": [
    "rollnum.sort()\n",
    "print(rollnum)"
   ]
  },
  {
   "cell_type": "code",
   "execution_count": 147,
   "id": "b158b948",
   "metadata": {},
   "outputs": [
    {
     "name": "stdout",
     "output_type": "stream",
     "text": [
      "[590, 566, 558, 551, 528, 513]\n"
     ]
    }
   ],
   "source": [
    "rollnum.sort(reverse=True)\n",
    "print(rollnum)"
   ]
  },
  {
   "cell_type": "code",
   "execution_count": 151,
   "id": "344fa0a9",
   "metadata": {},
   "outputs": [],
   "source": [
    "myfriends.append('loki')"
   ]
  },
  {
   "cell_type": "code",
   "execution_count": 152,
   "id": "638a1317",
   "metadata": {},
   "outputs": [],
   "source": [
    "myfriends.append('chaitu')"
   ]
  },
  {
   "cell_type": "code",
   "execution_count": 154,
   "id": "fcb68de2",
   "metadata": {},
   "outputs": [
    {
     "name": "stdout",
     "output_type": "stream",
     "text": [
      "['Chaitanya', 'Paremesh', 'Purna', 'Reddy', 'Sai', 'Suresh', 'chaitu', 'loki']\n"
     ]
    }
   ],
   "source": [
    "myfriends.sort()#case insensitive sort\n",
    "print(myfriends)"
   ]
  },
  {
   "cell_type": "code",
   "execution_count": 155,
   "id": "9a7131d0",
   "metadata": {},
   "outputs": [],
   "source": [
    "myfriends.reverse()"
   ]
  },
  {
   "cell_type": "code",
   "execution_count": 156,
   "id": "e549805e",
   "metadata": {},
   "outputs": [
    {
     "name": "stdout",
     "output_type": "stream",
     "text": [
      "['loki', 'chaitu', 'Suresh', 'Sai', 'Reddy', 'Purna', 'Paremesh', 'Chaitanya']\n"
     ]
    }
   ],
   "source": [
    "print(myfriends)"
   ]
  },
  {
   "cell_type": "code",
   "execution_count": 158,
   "id": "820195da",
   "metadata": {},
   "outputs": [
    {
     "name": "stdout",
     "output_type": "stream",
     "text": [
      "['loki', 'chaitu', 'Suresh', 'Sai', 'Reddy', 'Purna', 'Paremesh', 'Chaitanya']\n"
     ]
    }
   ],
   "source": [
    "fri=myfriends.copy()#Copying list\n",
    "print(fri)"
   ]
  },
  {
   "cell_type": "code",
   "execution_count": 159,
   "id": "92284e74",
   "metadata": {},
   "outputs": [
    {
     "name": "stdout",
     "output_type": "stream",
     "text": [
      "['loki', 'chaitu', 'Suresh', 'Sai', 'Reddy', 'Purna', 'Paremesh', 'Chaitanya']\n"
     ]
    }
   ],
   "source": [
    "myfri=list(fri)#Copying list\n",
    "print(myfri)"
   ]
  },
  {
   "cell_type": "code",
   "execution_count": null,
   "id": "6996b170",
   "metadata": {},
   "outputs": [],
   "source": []
  },
  {
   "cell_type": "code",
   "execution_count": null,
   "id": "4a27b471",
   "metadata": {},
   "outputs": [],
   "source": []
  },
  {
   "cell_type": "code",
   "execution_count": null,
   "id": "317d4531",
   "metadata": {},
   "outputs": [],
   "source": []
  },
  {
   "cell_type": "code",
   "execution_count": null,
   "id": "b4576039",
   "metadata": {},
   "outputs": [],
   "source": []
  },
  {
   "cell_type": "markdown",
   "id": "02c13cdb",
   "metadata": {},
   "source": [
    "## Python operators"
   ]
  },
  {
   "cell_type": "markdown",
   "id": "4dedd7bd",
   "metadata": {},
   "source": [
    "##### 1.Arithmetic operators\n"
   ]
  },
  {
   "cell_type": "code",
   "execution_count": 24,
   "id": "ff8ffdf4",
   "metadata": {},
   "outputs": [
    {
     "name": "stdout",
     "output_type": "stream",
     "text": [
      "addition: 15\n",
      "Subtraction: 5\n",
      "Multiplication: 50\n",
      "Devision: 3.3333333333333335\n",
      "Modulus: 0\n",
      "Floor devision: 3\n",
      "Exponential: 100\n"
     ]
    }
   ],
   "source": [
    "a=10\n",
    "b=5\n",
    "print('addition:',a+b)\n",
    "print('Subtraction:',a-b)\n",
    "print('Multiplication:',a*b)\n",
    "print('Devision:',a/3)\n",
    "print('Modulus:',a%b)\n",
    "print('Floor devision:',a//3)\n",
    "print('Exponential:',a**2)"
   ]
  },
  {
   "cell_type": "markdown",
   "id": "b32487f8",
   "metadata": {},
   "source": [
    "#### 2.Assignment Operators"
   ]
  },
  {
   "cell_type": "code",
   "execution_count": 35,
   "id": "47c250bb",
   "metadata": {},
   "outputs": [
    {
     "name": "stdout",
     "output_type": "stream",
     "text": [
      "10\n",
      "15\n",
      "10\n",
      "50\n",
      "10.0\n",
      "0.0\n",
      "2\n",
      "100\n"
     ]
    }
   ],
   "source": [
    "a=10\n",
    "b=5\n",
    "c=a\n",
    "print(a)\n",
    "a+=b\n",
    "print(a)\n",
    "a-=b\n",
    "print(a)\n",
    "a*=b\n",
    "print(a)\n",
    "a/=b\n",
    "print(a)\n",
    "a%=b\n",
    "print(a)\n",
    "b//=2\n",
    "print(b)\n",
    "c**=2\n",
    "print(c)"
   ]
  },
  {
   "cell_type": "markdown",
   "id": "e1e7417a",
   "metadata": {},
   "source": [
    "#### 3.Comparision Operators"
   ]
  },
  {
   "cell_type": "code",
   "execution_count": 37,
   "id": "36476bce",
   "metadata": {},
   "outputs": [
    {
     "name": "stdout",
     "output_type": "stream",
     "text": [
      "False\n",
      "True\n",
      "True\n",
      "False\n",
      "True\n",
      "False\n"
     ]
    }
   ],
   "source": [
    "a=10\n",
    "b=10.1\n",
    "print(a==b)\n",
    "print(a!=b)\n",
    "print(a<b)\n",
    "print(a>b)\n",
    "print(a<=b)\n",
    "print(a>=b)"
   ]
  },
  {
   "cell_type": "markdown",
   "id": "bfdaf1b9",
   "metadata": {},
   "source": [
    "#### 4.Logical Operators"
   ]
  },
  {
   "cell_type": "code",
   "execution_count": 46,
   "id": "e399566c",
   "metadata": {},
   "outputs": [
    {
     "name": "stdout",
     "output_type": "stream",
     "text": [
      "True\n",
      "False\n",
      "True\n",
      "False\n",
      "False\n"
     ]
    }
   ],
   "source": [
    "a=10\n",
    "b=20\n",
    "c=30\n",
    "print((a<b) and (b<c))\n",
    "print((a>b) and (b<c))\n",
    "print((a>b) or (b<c))\n",
    "print(not((a>b) or (b<c)))\n",
    "print((a>b) or not(b<c))"
   ]
  },
  {
   "cell_type": "markdown",
   "id": "7f57e74b",
   "metadata": {},
   "source": [
    "#### 5.Identity Operators"
   ]
  },
  {
   "cell_type": "code",
   "execution_count": 47,
   "id": "b72905a2",
   "metadata": {},
   "outputs": [
    {
     "name": "stdout",
     "output_type": "stream",
     "text": [
      "False\n",
      "True\n"
     ]
    }
   ],
   "source": [
    "x=['suresh','sai']\n",
    "y=['suresh','sai']\n",
    "z=x\n",
    "print(z is y)\n",
    "print(z is not y)"
   ]
  },
  {
   "cell_type": "markdown",
   "id": "b1850c6f",
   "metadata": {},
   "source": [
    "#### 6.Membership Operators"
   ]
  },
  {
   "cell_type": "code",
   "execution_count": 53,
   "id": "00f0702f",
   "metadata": {},
   "outputs": [
    {
     "name": "stdout",
     "output_type": "stream",
     "text": [
      "True\n",
      "False\n"
     ]
    }
   ],
   "source": [
    "x=['loki','sai','suresh','paramesh']\n",
    "y='loki'\n",
    "print(y in x)\n",
    "print(y not in x)"
   ]
  },
  {
   "cell_type": "markdown",
   "id": "8bc424f3",
   "metadata": {},
   "source": [
    "####  7.Bitwise Operators"
   ]
  },
  {
   "cell_type": "code",
   "execution_count": 56,
   "id": "6dee0223",
   "metadata": {},
   "outputs": [
    {
     "name": "stdout",
     "output_type": "stream",
     "text": [
      "4\n",
      "6\n",
      "2\n",
      "256\n",
      "4\n"
     ]
    }
   ],
   "source": [
    "print(4&6)\n",
    "print(4|6)\n",
    "print(4^6)\n",
    "print(4<<6)\n",
    "print(256>>6)"
   ]
  },
  {
   "cell_type": "code",
   "execution_count": null,
   "id": "e269cb95",
   "metadata": {},
   "outputs": [],
   "source": []
  },
  {
   "cell_type": "code",
   "execution_count": null,
   "id": "1455c714",
   "metadata": {},
   "outputs": [],
   "source": []
  },
  {
   "cell_type": "code",
   "execution_count": null,
   "id": "2841e42f",
   "metadata": {},
   "outputs": [],
   "source": []
  }
 ],
 "metadata": {
  "kernelspec": {
   "display_name": "Python 3 (ipykernel)",
   "language": "python",
   "name": "python3"
  },
  "language_info": {
   "codemirror_mode": {
    "name": "ipython",
    "version": 3
   },
   "file_extension": ".py",
   "mimetype": "text/x-python",
   "name": "python",
   "nbconvert_exporter": "python",
   "pygments_lexer": "ipython3",
   "version": "3.9.12"
  }
 },
 "nbformat": 4,
 "nbformat_minor": 5
}
